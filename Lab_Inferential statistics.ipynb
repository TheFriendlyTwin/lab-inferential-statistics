{
 "cells": [
  {
   "cell_type": "markdown",
   "id": "b4aa0dfb",
   "metadata": {},
   "source": [
    "# Lab | Inferential statistics"
   ]
  },
  {
   "cell_type": "markdown",
   "id": "72ae569a",
   "metadata": {},
   "source": [
    "## Instructions"
   ]
  },
  {
   "cell_type": "markdown",
   "id": "dde63694",
   "metadata": {},
   "source": [
    "----------------------------------------------------------------------------------------------------------\n",
    "It is assumed that the mean systolic blood pressure is μ = 120 mm Hg. In the Honolulu Heart Study, a sample of n = 100 people had an average systolic blood pressure of 130.1 mm Hg with a standard deviation of 21.21 mm Hg. Is the group significantly different (with respect to systolic blood pressure!) from the regular population?\n",
    "\n",
    "- Set up the hypothesis test.\n",
    "\n",
    "- Write down all the steps followed for setting up the test.\n",
    "\n",
    "- Calculate the test statistic by hand and also code it in Python. It should be 4.76190. We will take a look at how to make decisions based on this calculated value.\n",
    "\n",
    "-------------------------------------------------------------------------------------------------------"
   ]
  },
  {
   "cell_type": "code",
   "execution_count": 2,
   "id": "e50d3dab",
   "metadata": {},
   "outputs": [
    {
     "data": {
      "text/plain": [
       "-4.761904761904759"
      ]
     },
     "execution_count": 2,
     "metadata": {},
     "output_type": "execute_result"
    }
   ],
   "source": [
    "#Calculating the test statistic in Python\n",
    "import math\n",
    "\n",
    "sample_mean = 120\n",
    "sample_std = 21.21\n",
    "pop_mean = 130.1\n",
    "n = 100\n",
    "\n",
    "statistic = (sample_mean - pop_mean)/(sample_std/math.sqrt(n))\n",
    "statistic"
   ]
  },
  {
   "cell_type": "code",
   "execution_count": 3,
   "id": "b720380e",
   "metadata": {},
   "outputs": [
    {
     "data": {
      "text/plain": [
       "4.761904761904759"
      ]
     },
     "execution_count": 3,
     "metadata": {},
     "output_type": "execute_result"
    }
   ],
   "source": [
    "statistic = (pop_mean - sample_mean)/(sample_std/math.sqrt(n))\n",
    "statistic"
   ]
  },
  {
   "cell_type": "markdown",
   "id": "eb071df7",
   "metadata": {},
   "source": [
    "----------------------------------------------------------------------------------------------------\n",
    "Calculating by hand:\n",
    "\n",
    "- pop_mean - sample_mean = 130.1 - 120 = 10.1\n",
    "\n",
    "- math.sqrt(n) = math.sqrt(100) = 10\n",
    "\n",
    "- sample_std / math.sqrt(n) = 21.21 / 10 = 2.121\n",
    "\n",
    "- statistic = (pop_mean - sample_mean)/(sample_std/math.sqrt(n)) = 10.1 / 2.121 = 4.761904761904762\n",
    "\n",
    "----------------------------------------------------------------------------------------------------"
   ]
  }
 ],
 "metadata": {
  "kernelspec": {
   "display_name": "Python 3 (ipykernel)",
   "language": "python",
   "name": "python3"
  },
  "language_info": {
   "codemirror_mode": {
    "name": "ipython",
    "version": 3
   },
   "file_extension": ".py",
   "mimetype": "text/x-python",
   "name": "python",
   "nbconvert_exporter": "python",
   "pygments_lexer": "ipython3",
   "version": "3.11.5"
  }
 },
 "nbformat": 4,
 "nbformat_minor": 5
}
