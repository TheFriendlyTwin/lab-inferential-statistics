{
 "cells": [
  {
   "cell_type": "markdown",
   "id": "b4aa0dfb",
   "metadata": {},
   "source": [
    "# Lab | Inferential statistics"
   ]
  },
  {
   "cell_type": "markdown",
   "id": "72ae569a",
   "metadata": {},
   "source": [
    "## Instructions"
   ]
  },
  {
   "cell_type": "markdown",
   "id": "dde63694",
   "metadata": {},
   "source": [
    "----------------------------------------------------------------------------------------------------------\n",
    "It is assumed that the mean systolic blood pressure is μ = 120 mm Hg. In the Honolulu Heart Study, a sample of n = 100 people had an average systolic blood pressure of 130.1 mm Hg with a standard deviation of 21.21 mm Hg. Is the group significantly different (with respect to systolic blood pressure!) from the regular population?\n",
    "\n",
    "- Set up the hypothesis test.\n",
    "\n",
    "- Write down all the steps followed for setting up the test.\n",
    "\n",
    "- Calculate the test statistic by hand and also code it in Python. It should be 4.76190. We will take a look at how to make decisions based on this calculated value.\n",
    "\n",
    "-------------------------------------------------------------------------------------------------------"
   ]
  },
  {
   "cell_type": "code",
   "execution_count": 1,
   "id": "e50d3dab",
   "metadata": {},
   "outputs": [
    {
     "data": {
      "text/plain": [
       "4.761904761904759"
      ]
     },
     "execution_count": 1,
     "metadata": {},
     "output_type": "execute_result"
    }
   ],
   "source": [
    "#Calculating the test statistic in Python\n",
    "import math\n",
    "\n",
    "sample_mean = 130.1\n",
    "sample_std = 21.21\n",
    "pop_mean = 120\n",
    "n = 100\n",
    "\n",
    "statistic = (sample_mean - pop_mean)/(sample_std/math.sqrt(n))\n",
    "statistic"
   ]
  },
  {
   "cell_type": "markdown",
   "id": "eb071df7",
   "metadata": {},
   "source": [
    "----------------------------------------------------------------------------------------------------\n",
    "Calculating by hand:\n",
    "\n",
    "- sample_mean - pop_mean = 130.1 - 120 = 10.1\n",
    "\n",
    "- math.sqrt(n) = math.sqrt(100) = 10\n",
    "\n",
    "- sample_std / math.sqrt(n) = 21.21 / 10 = 2.121\n",
    "\n",
    "- statistic = (pop_mean - sample_mean)/(sample_std/math.sqrt(n)) = 10.1 / 2.121 = 4.761904761904762\n",
    "\n",
    "----------------------------------------------------------------------------------------------------"
   ]
  },
  {
   "cell_type": "markdown",
   "id": "878bc593",
   "metadata": {},
   "source": [
    "-------------------------------------------------------------------------------------------------------\n",
    "The hypothesis test structure would be:\n",
    "\n",
    "- Null hypothesis ((H_0)): The mean systolic blood pressure is 120 mm Hg ((\\mu = 120)).\n",
    "- Alternative hypothesis ((H_1)): The mean systolic blood pressure is not 120 mm Hg ((\\mu \\neq 120)).\n",
    "\n",
    "------------------------------------------------------------------------------------------------------"
   ]
  },
  {
   "cell_type": "markdown",
   "id": "68f8c386",
   "metadata": {},
   "source": [
    "##### Conclusions"
   ]
  },
  {
   "cell_type": "markdown",
   "id": "12c7ecb5",
   "metadata": {},
   "source": [
    "---------------------------------------------------------------------------------------------------\n",
    "Assuming we are performing a two-tailed test . For a significance level of 0.05, the critical Z-values are approximately (-1.66) and (+1.66). Since our test statistic (4.76190) is beyond (+1.66), we can reject the null hypothesis. This means there is sufficient evidence at the 5% significance level to claim that the mean systolic blood pressure is different from 120 mm Hg.\n",
    "\n",
    "--------------------------------------------------------------------------------------------------\n"
   ]
  },
  {
   "cell_type": "markdown",
   "id": "2a7a31fb",
   "metadata": {},
   "source": [
    "-------------------------------------------------------------------------------------------------------\n",
    "In case we used a significance level of 0.001 for a two-tailed test, we would still refect he null hypthesis.As he critical Z-values are approximately (-3.174) and (+3.174).\n",
    "\n",
    "------------------------------------------------------------------------------------------------------"
   ]
  },
  {
   "cell_type": "code",
   "execution_count": null,
   "id": "7cb06ec1",
   "metadata": {},
   "outputs": [],
   "source": []
  }
 ],
 "metadata": {
  "kernelspec": {
   "display_name": "Python 3 (ipykernel)",
   "language": "python",
   "name": "python3"
  },
  "language_info": {
   "codemirror_mode": {
    "name": "ipython",
    "version": 3
   },
   "file_extension": ".py",
   "mimetype": "text/x-python",
   "name": "python",
   "nbconvert_exporter": "python",
   "pygments_lexer": "ipython3",
   "version": "3.11.5"
  }
 },
 "nbformat": 4,
 "nbformat_minor": 5
}
